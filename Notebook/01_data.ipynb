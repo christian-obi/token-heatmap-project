{
 "cells": [
  {
   "cell_type": "code",
   "execution_count": 1,
   "id": "b07fc92a",
   "metadata": {},
   "outputs": [
    {
     "ename": "SyntaxError",
     "evalue": "'(' was never closed (2470616503.py, line 18)",
     "output_type": "error",
     "traceback": [
      "  \u001b[36mCell\u001b[39m\u001b[36m \u001b[39m\u001b[32mIn[1]\u001b[39m\u001b[32m, line 18\u001b[39m\n\u001b[31m    \u001b[39m\u001b[31mresponse = requests.get(url, headers=headers, params=param\u001b[39m\n                           ^\n\u001b[31mSyntaxError\u001b[39m\u001b[31m:\u001b[39m '(' was never closed\n"
     ]
    }
   ],
   "source": [
    "load_dotenv()  # Load environment variables from .env\n",
    "\n",
    "api_key = os.getenv(\"GECKO_API\")  # Get API key from .env\n",
    "coin_id = \"bitcoin\"\n",
    "vs_currency = \"usd\"\n",
    "days = \"30\"\n",
    "\n",
    "url = f\"https://pro-api.coingecko.com/api/v3/coins/{coin_id}/market_chart\"\n",
    "params = {\n",
    "    \"vs_currency\": vs_currency,\n",
    "    \"days\": days\n",
    "}\n",
    "headers = {\n",
    "    \"accept\": \"application/json\",\n",
    "    \"x-cg-pro-api-key\": api_key\n",
    "}\n",
    "\n",
    "response = requests.get(url, headers=headers, params=param\n",
    "response = requests.get(url, headers=headers, params=params)\n",
    "print(response.text)"
   ]
  }
 ],
 "metadata": {
  "kernelspec": {
   "display_name": "newenv",
   "language": "python",
   "name": "python3"
  },
  "language_info": {
   "codemirror_mode": {
    "name": "ipython",
    "version": 3
   },
   "file_extension": ".py",
   "mimetype": "text/x-python",
   "name": "python",
   "nbconvert_exporter": "python",
   "pygments_lexer": "ipython3",
   "version": "3.12.3"
  }
 },
 "nbformat": 4,
 "nbformat_minor": 5
}
